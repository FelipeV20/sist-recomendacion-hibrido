{
 "cells": [
  {
   "cell_type": "code",
   "execution_count": 21,
   "metadata": {},
   "outputs": [
    {
     "name": "stdout",
     "output_type": "stream",
     "text": [
      "[[ 0.04840052 -0.60431296]\n",
      " [-2.90377556 -1.76762122]\n",
      " [ 0.76034237 -1.21721296]\n",
      " ...\n",
      " [-0.63132708 -1.3974623 ]\n",
      " [-1.47312419 -1.28925192]\n",
      " [ 0.98895455  0.65578892]]\n",
      "------------------------\n",
      "[1 1 2 ... 2 1 0]\n"
     ]
    }
   ],
   "source": [
    "import numpy as np\n",
    "from sklearn.datasets import make_blobs\n",
    "import time\n",
    "from sklearn.cluster import KMeans\n",
    "from sklearn.cluster import MiniBatchKMeans\n",
    "from sklearn.metrics.pairwise import pairwise_distances_argmin\n",
    "\n",
    "np.random.seed(0)\n",
    "batch_size = 45\n",
    "centers = [[1, 1],\n",
    "           [-1, -1],\n",
    "           [1, -1]]\n",
    "n_clusters = len(centers)\n",
    "X, labels_true = make_blobs(n_samples=3000,\n",
    "                            centers=centers,\n",
    "                            cluster_std=0.7)\n",
    "print(X)\n",
    "print('------------------------')\n",
    "print(labels_true)"
   ]
  },
  {
   "cell_type": "code",
   "execution_count": 23,
   "metadata": {},
   "outputs": [],
   "source": [
    "k_means = KMeans(init=\"k-means++\", n_clusters=3, n_init=10)\n",
    "t0 = time.time()\n",
    "k_means.fit(X)\n",
    "t_batch = time.time() - t0"
   ]
  },
  {
   "cell_type": "code",
   "execution_count": 24,
   "metadata": {},
   "outputs": [
    {
     "name": "stderr",
     "output_type": "stream",
     "text": [
      "c:\\Users\\Lenovo\\anaconda3\\Lib\\site-packages\\sklearn\\cluster\\_kmeans.py:1962: UserWarning: MiniBatchKMeans is known to have a memory leak on Windows with MKL, when there are less chunks than available threads. You can prevent it by setting batch_size >= 1024 or by setting the environment variable OMP_NUM_THREADS=1\n",
      "  warnings.warn(\n"
     ]
    },
    {
     "data": {
      "text/plain": [
       "2524.5147700285543"
      ]
     },
     "execution_count": 24,
     "metadata": {},
     "output_type": "execute_result"
    }
   ],
   "source": [
    "mbk = MiniBatchKMeans(\n",
    "    init=\"k-means++\",\n",
    "    n_clusters=3,\n",
    "    batch_size=batch_size,\n",
    "    n_init=10,\n",
    "    max_no_improvement=10,\n",
    "    verbose=0,\n",
    ")\n",
    "t0 = time.time()\n",
    "mbk.fit(X)\n",
    "t_mini_batch = time.time() - t0\n",
    "mbk.inertia_"
   ]
  }
 ],
 "metadata": {
  "kernelspec": {
   "display_name": "base",
   "language": "python",
   "name": "python3"
  },
  "language_info": {
   "codemirror_mode": {
    "name": "ipython",
    "version": 3
   },
   "file_extension": ".py",
   "mimetype": "text/x-python",
   "name": "python",
   "nbconvert_exporter": "python",
   "pygments_lexer": "ipython3",
   "version": "3.11.5"
  }
 },
 "nbformat": 4,
 "nbformat_minor": 2
}
